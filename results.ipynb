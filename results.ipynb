{
 "cells": [
  {
   "cell_type": "code",
   "execution_count": 6,
   "id": "9a9431e7-2807-4e16-aab4-3f546b380eb5",
   "metadata": {},
   "outputs": [
    {
     "name": "stdout",
     "output_type": "stream",
     "text": [
      "Requirement already satisfied: numpy in /home/bhargav/.local/lib/python3.8/site-packages (1.21.4)\n",
      "Requirement already satisfied: pandas in /home/bhargav/.local/lib/python3.8/site-packages (1.3.4)\n",
      "Requirement already satisfied: opencv-python in /home/bhargav/.local/lib/python3.8/site-packages (4.5.4.58)\n",
      "Collecting matplotlib\n",
      "  Downloading matplotlib-3.4.3-cp38-cp38-manylinux1_x86_64.whl (10.3 MB)\n",
      "\u001b[K     |████████████████████████████████| 10.3 MB 16 kB/s  eta 0:00:01\n",
      "\u001b[?25hRequirement already satisfied: python-dateutil>=2.7.3 in /usr/lib/python3/dist-packages (from pandas) (2.7.3)\n",
      "Requirement already satisfied: pytz>=2017.3 in /usr/lib/python3/dist-packages (from pandas) (2019.3)\n",
      "Requirement already satisfied: pillow>=6.2.0 in /usr/lib/python3/dist-packages (from matplotlib) (7.0.0)\n",
      "Requirement already satisfied: pyparsing>=2.2.1 in /home/bhargav/.local/lib/python3.8/site-packages (from matplotlib) (2.4.7)\n",
      "Collecting kiwisolver>=1.0.1\n",
      "  Downloading kiwisolver-1.3.2-cp38-cp38-manylinux_2_5_x86_64.manylinux1_x86_64.whl (1.2 MB)\n",
      "\u001b[K     |████████████████████████████████| 1.2 MB 98 kB/s  eta 0:00:01\n",
      "\u001b[?25hCollecting cycler>=0.10\n",
      "  Downloading cycler-0.11.0-py3-none-any.whl (6.4 kB)\n",
      "Installing collected packages: kiwisolver, cycler, matplotlib\n",
      "Successfully installed cycler-0.11.0 kiwisolver-1.3.2 matplotlib-3.4.3\n"
     ]
    }
   ],
   "source": [
    "# Install a pip package in case not available in the current Jupyter kernel\n",
    "import sys\n",
    "!{sys.executable} -m pip install numpy pandas opencv-python matplotlib"
   ]
  },
  {
   "cell_type": "code",
   "execution_count": 30,
   "id": "7a79024d-1257-4dfa-b3a6-923a1a622ec2",
   "metadata": {},
   "outputs": [],
   "source": [
    "import pandas as pd\n",
    "import numpy as np\n",
    "import matplotlib.pyplot as matplot\n",
    "%matplotlib inline\n",
    "import math\n",
    "import cv2 as cv"
   ]
  },
  {
   "cell_type": "markdown",
   "id": "bccf8394-4176-4e1d-930d-60fcb762f859",
   "metadata": {},
   "source": [
    "## Verifying Benford's law by plotting MSD of naturally occurring statistics\n",
    "\n",
    "For datasets, we analyze for country-wise population in *population_by_country_2020.csv* which is a dataset containing population of all countries of world. We also analyze number of likes in comments in *youtube_dataset.csv* which is a dataset containing information about comments on popular videos."
   ]
  },
  {
   "cell_type": "code",
   "execution_count": 21,
   "id": "eababc48-bab5-4e79-976d-8cb27b4c4b0f",
   "metadata": {},
   "outputs": [
    {
     "data": {
      "text/html": [
       "<div>\n",
       "<style scoped>\n",
       "    .dataframe tbody tr th:only-of-type {\n",
       "        vertical-align: middle;\n",
       "    }\n",
       "\n",
       "    .dataframe tbody tr th {\n",
       "        vertical-align: top;\n",
       "    }\n",
       "\n",
       "    .dataframe thead th {\n",
       "        text-align: right;\n",
       "    }\n",
       "</style>\n",
       "<table border=\"1\" class=\"dataframe\">\n",
       "  <thead>\n",
       "    <tr style=\"text-align: right;\">\n",
       "      <th></th>\n",
       "      <th>Country (or dependency)</th>\n",
       "      <th>Population (2020)</th>\n",
       "      <th>Yearly Change</th>\n",
       "      <th>Net Change</th>\n",
       "      <th>Density (P/Km²)</th>\n",
       "      <th>Land Area (Km²)</th>\n",
       "      <th>Migrants (net)</th>\n",
       "      <th>Fert. Rate</th>\n",
       "      <th>Med. Age</th>\n",
       "      <th>Urban Pop %</th>\n",
       "      <th>World Share</th>\n",
       "    </tr>\n",
       "  </thead>\n",
       "  <tbody>\n",
       "    <tr>\n",
       "      <th>0</th>\n",
       "      <td>China</td>\n",
       "      <td>1440297825</td>\n",
       "      <td>0.39 %</td>\n",
       "      <td>5540090</td>\n",
       "      <td>153</td>\n",
       "      <td>9388211</td>\n",
       "      <td>-348399.0</td>\n",
       "      <td>1.7</td>\n",
       "      <td>38</td>\n",
       "      <td>61 %</td>\n",
       "      <td>18.47 %</td>\n",
       "    </tr>\n",
       "    <tr>\n",
       "      <th>1</th>\n",
       "      <td>India</td>\n",
       "      <td>1382345085</td>\n",
       "      <td>0.99 %</td>\n",
       "      <td>13586631</td>\n",
       "      <td>464</td>\n",
       "      <td>2973190</td>\n",
       "      <td>-532687.0</td>\n",
       "      <td>2.2</td>\n",
       "      <td>28</td>\n",
       "      <td>35 %</td>\n",
       "      <td>17.70 %</td>\n",
       "    </tr>\n",
       "    <tr>\n",
       "      <th>2</th>\n",
       "      <td>United States</td>\n",
       "      <td>331341050</td>\n",
       "      <td>0.59 %</td>\n",
       "      <td>1937734</td>\n",
       "      <td>36</td>\n",
       "      <td>9147420</td>\n",
       "      <td>954806.0</td>\n",
       "      <td>1.8</td>\n",
       "      <td>38</td>\n",
       "      <td>83 %</td>\n",
       "      <td>4.25 %</td>\n",
       "    </tr>\n",
       "    <tr>\n",
       "      <th>3</th>\n",
       "      <td>Indonesia</td>\n",
       "      <td>274021604</td>\n",
       "      <td>1.07 %</td>\n",
       "      <td>2898047</td>\n",
       "      <td>151</td>\n",
       "      <td>1811570</td>\n",
       "      <td>-98955.0</td>\n",
       "      <td>2.3</td>\n",
       "      <td>30</td>\n",
       "      <td>56 %</td>\n",
       "      <td>3.51 %</td>\n",
       "    </tr>\n",
       "    <tr>\n",
       "      <th>4</th>\n",
       "      <td>Pakistan</td>\n",
       "      <td>221612785</td>\n",
       "      <td>2.00 %</td>\n",
       "      <td>4327022</td>\n",
       "      <td>287</td>\n",
       "      <td>770880</td>\n",
       "      <td>-233379.0</td>\n",
       "      <td>3.6</td>\n",
       "      <td>23</td>\n",
       "      <td>35 %</td>\n",
       "      <td>2.83 %</td>\n",
       "    </tr>\n",
       "  </tbody>\n",
       "</table>\n",
       "</div>"
      ],
      "text/plain": [
       "  Country (or dependency)  Population (2020) Yearly Change  Net Change  \\\n",
       "0                   China         1440297825        0.39 %     5540090   \n",
       "1                   India         1382345085        0.99 %    13586631   \n",
       "2           United States          331341050        0.59 %     1937734   \n",
       "3               Indonesia          274021604        1.07 %     2898047   \n",
       "4                Pakistan          221612785        2.00 %     4327022   \n",
       "\n",
       "   Density (P/Km²)  Land Area (Km²)  Migrants (net) Fert. Rate Med. Age  \\\n",
       "0              153          9388211       -348399.0        1.7       38   \n",
       "1              464          2973190       -532687.0        2.2       28   \n",
       "2               36          9147420        954806.0        1.8       38   \n",
       "3              151          1811570        -98955.0        2.3       30   \n",
       "4              287           770880       -233379.0        3.6       23   \n",
       "\n",
       "  Urban Pop % World Share  \n",
       "0        61 %     18.47 %  \n",
       "1        35 %     17.70 %  \n",
       "2        83 %      4.25 %  \n",
       "3        56 %      3.51 %  \n",
       "4        35 %      2.83 %  "
      ]
     },
     "execution_count": 21,
     "metadata": {},
     "output_type": "execute_result"
    }
   ],
   "source": [
    "population_dataset = pd.read_csv('population_by_country_2020.csv')\n",
    "population_dataset.head()"
   ]
  },
  {
   "cell_type": "code",
   "execution_count": 22,
   "id": "8ec33deb-e926-42b3-a717-689e5ea969ae",
   "metadata": {},
   "outputs": [
    {
     "data": {
      "text/html": [
       "<div>\n",
       "<style scoped>\n",
       "    .dataframe tbody tr th:only-of-type {\n",
       "        vertical-align: middle;\n",
       "    }\n",
       "\n",
       "    .dataframe tbody tr th {\n",
       "        vertical-align: top;\n",
       "    }\n",
       "\n",
       "    .dataframe thead th {\n",
       "        text-align: right;\n",
       "    }\n",
       "</style>\n",
       "<table border=\"1\" class=\"dataframe\">\n",
       "  <thead>\n",
       "    <tr style=\"text-align: right;\">\n",
       "      <th></th>\n",
       "      <th>Video Name</th>\n",
       "      <th>Channel Name</th>\n",
       "      <th>Comment Id</th>\n",
       "      <th>User Name</th>\n",
       "      <th>Comment</th>\n",
       "      <th>Date</th>\n",
       "      <th>Likes</th>\n",
       "    </tr>\n",
       "  </thead>\n",
       "  <tbody>\n",
       "    <tr>\n",
       "      <th>0</th>\n",
       "      <td>Luis Fonsi - Despacito ft. Daddy Yankee</td>\n",
       "      <td>LuisFonsiVEVO</td>\n",
       "      <td>UgwV0tapZzaFxdYm1z14AaABAg</td>\n",
       "      <td>GAMIT yuvraj</td>\n",
       "      <td>The people who liked this comment is officiall...</td>\n",
       "      <td>2020-08-10T20:00:43Z</td>\n",
       "      <td>98280</td>\n",
       "    </tr>\n",
       "    <tr>\n",
       "      <th>1</th>\n",
       "      <td>Luis Fonsi - Despacito ft. Daddy Yankee</td>\n",
       "      <td>LuisFonsiVEVO</td>\n",
       "      <td>UgyiccblP3A16aixpit4AaABAg</td>\n",
       "      <td>MrCrazy</td>\n",
       "      <td>- Wait, it's 7B views\\n- Always has been</td>\n",
       "      <td>2020-09-07T20:52:36Z</td>\n",
       "      <td>773</td>\n",
       "    </tr>\n",
       "    <tr>\n",
       "      <th>2</th>\n",
       "      <td>Luis Fonsi - Despacito ft. Daddy Yankee</td>\n",
       "      <td>LuisFonsiVEVO</td>\n",
       "      <td>Ugx7THW3EBNJlhJuwSB4AaABAg</td>\n",
       "      <td>60K Subs With 1 Video Challenge</td>\n",
       "      <td>*Teacher: What is the population of the Earth?...</td>\n",
       "      <td>2019-11-21T03:23:32Z</td>\n",
       "      <td>356081</td>\n",
       "    </tr>\n",
       "    <tr>\n",
       "      <th>3</th>\n",
       "      <td>Luis Fonsi - Despacito ft. Daddy Yankee</td>\n",
       "      <td>LuisFonsiVEVO</td>\n",
       "      <td>UgzXUsI6yrRjTKNASf94AaABAg</td>\n",
       "      <td>Srivathsa D</td>\n",
       "      <td>Let's be honest this wasn't your recommendatio...</td>\n",
       "      <td>2020-09-09T03:41:34Z</td>\n",
       "      <td>13</td>\n",
       "    </tr>\n",
       "    <tr>\n",
       "      <th>4</th>\n",
       "      <td>Luis Fonsi - Despacito ft. Daddy Yankee</td>\n",
       "      <td>LuisFonsiVEVO</td>\n",
       "      <td>UgxCu6mywg6uqjueHQ14AaABAg</td>\n",
       "      <td>1k Subscribers Challenge Without Any Video</td>\n",
       "      <td>Types Of People:\\n10% Enjoying Song \\n90% Chec...</td>\n",
       "      <td>2020-09-08T09:53:24Z</td>\n",
       "      <td>122</td>\n",
       "    </tr>\n",
       "  </tbody>\n",
       "</table>\n",
       "</div>"
      ],
      "text/plain": [
       "                                Video Name   Channel Name  \\\n",
       "0  Luis Fonsi - Despacito ft. Daddy Yankee  LuisFonsiVEVO   \n",
       "1  Luis Fonsi - Despacito ft. Daddy Yankee  LuisFonsiVEVO   \n",
       "2  Luis Fonsi - Despacito ft. Daddy Yankee  LuisFonsiVEVO   \n",
       "3  Luis Fonsi - Despacito ft. Daddy Yankee  LuisFonsiVEVO   \n",
       "4  Luis Fonsi - Despacito ft. Daddy Yankee  LuisFonsiVEVO   \n",
       "\n",
       "                   Comment Id                                   User Name  \\\n",
       "0  UgwV0tapZzaFxdYm1z14AaABAg                                GAMIT yuvraj   \n",
       "1  UgyiccblP3A16aixpit4AaABAg                                     MrCrazy   \n",
       "2  Ugx7THW3EBNJlhJuwSB4AaABAg             60K Subs With 1 Video Challenge   \n",
       "3  UgzXUsI6yrRjTKNASf94AaABAg                                 Srivathsa D   \n",
       "4  UgxCu6mywg6uqjueHQ14AaABAg  1k Subscribers Challenge Without Any Video   \n",
       "\n",
       "                                             Comment                  Date  \\\n",
       "0  The people who liked this comment is officiall...  2020-08-10T20:00:43Z   \n",
       "1           - Wait, it's 7B views\\n- Always has been  2020-09-07T20:52:36Z   \n",
       "2  *Teacher: What is the population of the Earth?...  2019-11-21T03:23:32Z   \n",
       "3  Let's be honest this wasn't your recommendatio...  2020-09-09T03:41:34Z   \n",
       "4  Types Of People:\\n10% Enjoying Song \\n90% Chec...  2020-09-08T09:53:24Z   \n",
       "\n",
       "    Likes  \n",
       "0   98280  \n",
       "1     773  \n",
       "2  356081  \n",
       "3      13  \n",
       "4     122  "
      ]
     },
     "execution_count": 22,
     "metadata": {},
     "output_type": "execute_result"
    }
   ],
   "source": [
    "comment_likes_dataset = pd.read_csv('youtube_dataset.csv')\n",
    "comment_likes_dataset.head()"
   ]
  },
  {
   "cell_type": "code",
   "execution_count": 34,
   "id": "135f509a-57bb-49fc-a6e4-8ad0a5906011",
   "metadata": {},
   "outputs": [],
   "source": [
    "# Computes ideal distribution following Benford's law\n",
    "def benfordDataset(dataset_size):\n",
    "    dataset = []\n",
    "    sum_prob = 0\n",
    "    for x in range(1, 10):\n",
    "        sum_prob += math.log(1+1/x)\n",
    "    for x in range(1,10):\n",
    "        freq = dataset_size*(math.log(1+1/x))/sum_prob\n",
    "        dataset.append(freq)\n",
    "    return dataset"
   ]
  },
  {
   "cell_type": "code",
   "execution_count": 35,
   "id": "c0cfcd7f-49c7-4f79-9c6e-147fc7168b4e",
   "metadata": {},
   "outputs": [
    {
     "data": {
      "image/png": "[encoded data removed]",
      "text/plain": [
       "<Figure size 432x288 with 1 Axes>"
      ]
     },
     "metadata": {
      "needs_background": "light"
     },
     "output_type": "display_data"
    }
   ],
   "source": [
    "# Extracting NumPy array from the population field in the csv file\n",
    "population_list = np.array(population_dataset['Population (2020)'])\n",
    "dataset_size = population_list.shape[0]\n",
    "msd_list = []\n",
    "for x in population_list:\n",
    "  msd_list.append(int(str(x)[0]))\n",
    "np.sort(msd_list)\n",
    "dig_list = [1,2,3,4,5,6,7,8,9]\n",
    "\n",
    "# Plotting the graph\n",
    "matplot.hist(msd_list, dig_list, density=False)\n",
    "matplot.plot(dig_list, benfordDataset(dataset_size))\n",
    "matplot.title('Population of countries')\n",
    "matplot.xlabel('Most significant digit')\n",
    "matplot.ylabel('Frequency')\n",
    "matplot.show()"
   ]
  },
  {
   "cell_type": "code",
   "execution_count": 36,
   "id": "bada221a-80a9-462f-86f5-16c333bd127d",
   "metadata": {},
   "outputs": [
    {
     "data": {
      "image/png": "[encoded data removed]",
      "text/plain": [
       "<Figure size 432x288 with 1 Axes>"
      ]
     },
     "metadata": {
      "needs_background": "light"
     },
     "output_type": "display_data"
    }
   ],
   "source": [
    "# Extracting NumPy array from the likes field in the csv file\n",
    "likes_list = np.array(comment_likes_dataset['Likes'])\n",
    "dataset_size = likes_list.shape[0]\n",
    "msd_list = []\n",
    "for x in likes_list:\n",
    "    digit = int(str(x)[0])\n",
    "    # Ignoring 0 values\n",
    "    if (digit != 0):\n",
    "        msd_list.append(digit)\n",
    "np.sort(msd_list)\n",
    "matplot.hist(msd_list, dig_list, density=False)\n",
    "matplot.plot(dig_list, benfordDataset(dataset_size))\n",
    "matplot.title('Comment likes')\n",
    "matplot.xlabel('Most significant digit')\n",
    "matplot.ylabel('Frequency')\n",
    "matplot.show()"
   ]
  },
  {
   "cell_type": "markdown",
   "id": "68a6f768-b1ec-41fd-86ca-8dc5ef2826a3",
   "metadata": {},
   "source": [
    "We now analyze two images, natural.jpg and synthetic.jpg. In specific, we extract their RGB values and flatten into 1D array for plots."
   ]
  },
  {
   "cell_type": "code",
   "execution_count": 15,
   "id": "5d8aa1fd-6f81-481c-9e28-5a53094c9a2a",
   "metadata": {},
   "outputs": [],
   "source": [
    "nat_img = cv.imread('natural.jpg')\n",
    "synthetic_img = cv.imread('synthetic.jpg')"
   ]
  },
  {
   "cell_type": "code",
   "execution_count": 37,
   "id": "eb9379b3-83f1-4907-9d37-d563f716b294",
   "metadata": {},
   "outputs": [
    {
     "data": {
      "image/png": "[encoded data removed]",
      "text/plain": [
       "<Figure size 432x288 with 1 Axes>"
      ]
     },
     "metadata": {
      "needs_background": "light"
     },
     "output_type": "display_data"
    }
   ],
   "source": [
    "# Extracting BGR values from natural.jpg\n",
    "nat_img_1d = nat_img.flatten()\n",
    "dataset_size = nat_img_1d.shape[0]\n",
    "msd_list = []\n",
    "for x in nat_img_1d:\n",
    "    digit = int(str(x)[0])\n",
    "    # Ignoring 0 values\n",
    "    if (x != 0):\n",
    "        msd_list.append(digit)\n",
    "np.sort(msd_list)\n",
    "matplot.hist(msd_list, dig_list, density=False)\n",
    "matplot.plot(dig_list, benfordDataset(dataset_size))\n",
    "matplot.title('Natural image')\n",
    "matplot.xlabel('Most significant digit')\n",
    "matplot.ylabel('Frequency (in millions)')\n",
    "matplot.show()"
   ]
  },
  {
   "cell_type": "code",
   "execution_count": 38,
   "id": "3984017b-3aa6-4246-972e-aae465a4d1bf",
   "metadata": {},
   "outputs": [
    {
     "data": {
      "image/png": "[encoded data removed]",
      "text/plain": [
       "<Figure size 432x288 with 1 Axes>"
      ]
     },
     "metadata": {
      "needs_background": "light"
     },
     "output_type": "display_data"
    }
   ],
   "source": [
    "# Extracting BGR values from synthetic.jpg\n",
    "synthetic_img_1d = synthetic_img.flatten()\n",
    "dataset_size = synthetic_img_1d.shape[0]\n",
    "msd_list = []\n",
    "for x in synthetic_img_1d:\n",
    "    digit = int(str(x)[0])\n",
    "    # Ignoring 0 values\n",
    "    if (x != 0):\n",
    "        msd_list.append(digit)\n",
    "np.sort(msd_list)\n",
    "matplot.hist(msd_list, dig_list, density=False)\n",
    "matplot.plot(dig_list, benfordDataset(dataset_size))\n",
    "matplot.title('Synthetic image')\n",
    "matplot.xlabel('MSD')\n",
    "matplot.ylabel('Frequency')\n",
    "matplot.show()"
   ]
  }
 ],
 "metadata": {
  "kernelspec": {
   "display_name": "Python 3 (ipykernel)",
   "language": "python",
   "name": "python3"
  },
  "language_info": {
   "codemirror_mode": {
    "name": "ipython",
    "version": 3
   },
   "file_extension": ".py",
   "mimetype": "text/x-python",
   "name": "python",
   "nbconvert_exporter": "python",
   "pygments_lexer": "ipython3",
   "version": "3.8.10"
  }
 },
 "nbformat": 4,
 "nbformat_minor": 5
}
